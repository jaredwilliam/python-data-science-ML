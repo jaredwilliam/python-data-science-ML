{
 "cells": [
  {
   "cell_type": "markdown",
   "metadata": {},
   "source": [
    "<a href=\"https://www.pieriandata.com\"><img src=\"../Pierian_Data_Logo.PNG\"></a>\n",
    "<strong><center>Copyright by Pierian Data Inc.</center></strong> \n",
    "<strong><center>Created by Jose Marcial Portilla.</center></strong>"
   ]
  },
  {
   "cell_type": "markdown",
   "metadata": {},
   "source": [
    "# Tensorboard\n",
    "\n",
    "---\n",
    "---\n",
    "\n",
    "**NOTE: You must watch the corresponding video to understand this lecture. This notebook can't serve as a full guide. Please watch the video BEFORE posting questions to the QA forum.**\n",
    "\n",
    "---\n",
    "---\n",
    "\n",
    "Let's explore the built in data visualization capabilities that come with Tensorboard.\n",
    "\n",
    "Full official tutorial available here: https://www.tensorflow.org/tensorboard/get_started\n",
    "\n",
    "## Data"
   ]
  },
  {
   "cell_type": "code",
   "execution_count": 1,
   "metadata": {},
   "outputs": [],
   "source": [
    "import pandas as pd\n",
    "import numpy as np"
   ]
  },
  {
   "cell_type": "code",
   "execution_count": 2,
   "metadata": {},
   "outputs": [],
   "source": [
    "df = pd.read_csv('../DATA/cancer_classification.csv')"
   ]
  },
  {
   "cell_type": "markdown",
   "metadata": {},
   "source": [
    "### Train Test Split"
   ]
  },
  {
   "cell_type": "code",
   "execution_count": 3,
   "metadata": {},
   "outputs": [],
   "source": [
    "X = df.drop('benign_0__mal_1',axis=1).values\n",
    "y = df['benign_0__mal_1'].values"
   ]
  },
  {
   "cell_type": "code",
   "execution_count": 4,
   "metadata": {},
   "outputs": [],
   "source": [
    "from sklearn.model_selection import train_test_split"
   ]
  },
  {
   "cell_type": "code",
   "execution_count": 5,
   "metadata": {},
   "outputs": [],
   "source": [
    "X_train, X_test, y_train, y_test = train_test_split(X,y,test_size=0.25,random_state=101)"
   ]
  },
  {
   "cell_type": "markdown",
   "metadata": {},
   "source": [
    "\n",
    "### Scaling Data"
   ]
  },
  {
   "cell_type": "code",
   "execution_count": 6,
   "metadata": {},
   "outputs": [],
   "source": [
    "from sklearn.preprocessing import MinMaxScaler"
   ]
  },
  {
   "cell_type": "code",
   "execution_count": 7,
   "metadata": {},
   "outputs": [],
   "source": [
    "scaler = MinMaxScaler()"
   ]
  },
  {
   "cell_type": "code",
   "execution_count": 8,
   "metadata": {},
   "outputs": [
    {
     "data": {
      "text/plain": [
       "MinMaxScaler(copy=True, feature_range=(0, 1))"
      ]
     },
     "execution_count": 8,
     "metadata": {},
     "output_type": "execute_result"
    }
   ],
   "source": [
    "scaler.fit(X_train)"
   ]
  },
  {
   "cell_type": "code",
   "execution_count": 9,
   "metadata": {},
   "outputs": [],
   "source": [
    "X_train = scaler.transform(X_train)\n",
    "X_test = scaler.transform(X_test)"
   ]
  },
  {
   "cell_type": "markdown",
   "metadata": {},
   "source": [
    "## Creating the Model"
   ]
  },
  {
   "cell_type": "code",
   "execution_count": 10,
   "metadata": {},
   "outputs": [],
   "source": [
    "import tensorflow as tf\n",
    "from tensorflow.keras.models import Sequential\n",
    "from tensorflow.keras.layers import Dense, Activation,Dropout"
   ]
  },
  {
   "cell_type": "code",
   "execution_count": 11,
   "metadata": {},
   "outputs": [],
   "source": [
    "from tensorflow.keras.callbacks import EarlyStopping,TensorBoard"
   ]
  },
  {
   "cell_type": "code",
   "execution_count": 12,
   "metadata": {},
   "outputs": [],
   "source": [
    "early_stop = EarlyStopping(monitor='val_loss', mode='min', verbose=1, patience=25)"
   ]
  },
  {
   "cell_type": "code",
   "execution_count": 13,
   "metadata": {},
   "outputs": [
    {
     "data": {
      "text/plain": [
       "'C:\\\\Users\\\\Jared\\\\Documents\\\\GitHub\\\\python-data-science-ML\\\\TensorFlow_FILES\\\\ANNs'"
      ]
     },
     "execution_count": 13,
     "metadata": {},
     "output_type": "execute_result"
    }
   ],
   "source": [
    "pwd"
   ]
  },
  {
   "cell_type": "markdown",
   "metadata": {},
   "source": [
    "## Creating the Tensorboard Callback\n",
    "\n",
    "TensorBoard is a visualization tool provided with TensorFlow.\n",
    "\n",
    "This callback logs events for TensorBoard, including:\n",
    "* Metrics summary plots\n",
    "* Training graph visualization\n",
    "* Activation histograms\n",
    "* Sampled profiling\n",
    "\n",
    "If you have installed TensorFlow with pip, you should be able\n",
    "to launch TensorBoard from the command line:\n",
    "\n",
    "```sh\n",
    "tensorboard --logdir=path_to_your_logs\n",
    "```\n",
    "\n",
    "You can find more information about TensorBoard\n",
    "[here](https://www.tensorflow.org/tensorboard/).\n",
    "\n",
    "    Arguments:\n",
    "        log_dir: the path of the directory where to save the log files to be\n",
    "          parsed by TensorBoard.\n",
    "        histogram_freq: frequency (in epochs) at which to compute activation and\n",
    "          weight histograms for the layers of the model. If set to 0, histograms\n",
    "          won't be computed. Validation data (or split) must be specified for\n",
    "          histogram visualizations.\n",
    "        write_graph: whether to visualize the graph in TensorBoard. The log file\n",
    "          can become quite large when write_graph is set to True.\n",
    "        write_images: whether to write model weights to visualize as image in\n",
    "          TensorBoard.\n",
    "        update_freq: `'batch'` or `'epoch'` or integer. When using `'batch'`,\n",
    "          writes the losses and metrics to TensorBoard after each batch. The same\n",
    "          applies for `'epoch'`. If using an integer, let's say `1000`, the\n",
    "          callback will write the metrics and losses to TensorBoard every 1000\n",
    "          samples. Note that writing too frequently to TensorBoard can slow down\n",
    "          your training.\n",
    "        profile_batch: Profile the batch to sample compute characteristics. By\n",
    "          default, it will profile the second batch. Set profile_batch=0 to\n",
    "          disable profiling. Must run in TensorFlow eager mode.\n",
    "        embeddings_freq: frequency (in epochs) at which embedding layers will\n",
    "          be visualized. If set to 0, embeddings won't be visualized.\n",
    "       "
   ]
  },
  {
   "cell_type": "code",
   "execution_count": 14,
   "metadata": {},
   "outputs": [],
   "source": [
    "from datetime import datetime"
   ]
  },
  {
   "cell_type": "code",
   "execution_count": 15,
   "metadata": {},
   "outputs": [
    {
     "data": {
      "text/plain": [
       "'2021-01-04--2109'"
      ]
     },
     "execution_count": 15,
     "metadata": {},
     "output_type": "execute_result"
    }
   ],
   "source": [
    "datetime.now().strftime(\"%Y-%m-%d--%H%M\")"
   ]
  },
  {
   "cell_type": "code",
   "execution_count": 16,
   "metadata": {},
   "outputs": [],
   "source": [
    "# WINDOWS: Use \"logs\\\\fit\"\n",
    "# MACOS/LINUX: Use \"logs\\fit\"\n",
    "\n",
    "log_directory = 'logs\\\\fit'\n",
    "\n",
    "# OPTIONAL: ADD A TIMESTAMP FOR UNIQUE FOLDER\n",
    "# timestamp = datetime.now().strftime(\"%Y-%m-%d--%H%M\")\n",
    "# log_directory = log_directory + '\\\\' + timestamp\n",
    "\n",
    "\n",
    "board = TensorBoard(log_dir=log_directory,histogram_freq=1,\n",
    "    write_graph=True,\n",
    "    write_images=True,\n",
    "    update_freq='epoch',\n",
    "    profile_batch=2,\n",
    "    embeddings_freq=1)"
   ]
  },
  {
   "cell_type": "markdown",
   "metadata": {},
   "source": [
    "Now create the model layers:"
   ]
  },
  {
   "cell_type": "code",
   "execution_count": 17,
   "metadata": {},
   "outputs": [],
   "source": [
    "model = Sequential()\n",
    "model.add(Dense(units=30,activation='relu'))\n",
    "model.add(Dropout(0.5))\n",
    "model.add(Dense(units=15,activation='relu'))\n",
    "model.add(Dropout(0.5))\n",
    "model.add(Dense(units=1,activation='sigmoid'))\n",
    "model.compile(loss='binary_crossentropy', optimizer='adam')"
   ]
  },
  {
   "cell_type": "markdown",
   "metadata": {},
   "source": [
    "## Train the Model"
   ]
  },
  {
   "cell_type": "code",
   "execution_count": 18,
   "metadata": {},
   "outputs": [
    {
     "name": "stdout",
     "output_type": "stream",
     "text": [
      "Epoch 1/600\n",
      " 1/14 [=>............................] - ETA: 0s - loss: 0.7017WARNING:tensorflow:From C:\\Users\\Jared\\anaconda3\\lib\\site-packages\\tensorflow\\python\\ops\\summary_ops_v2.py:1277: stop (from tensorflow.python.eager.profiler) is deprecated and will be removed after 2020-07-01.\n",
      "Instructions for updating:\n",
      "use `tf.profiler.experimental.stop` instead.\n",
      " 2/14 [===>..........................] - ETA: 4s - loss: 0.6959WARNING:tensorflow:Callbacks method `on_train_batch_end` is slow compared to the batch time (batch time: 0.0040s vs `on_train_batch_end` time: 0.8174s). Check your callbacks.\n",
      "14/14 [==============================] - 1s 78ms/step - loss: 0.7073 - val_loss: 0.6894\n",
      "Epoch 2/600\n",
      "14/14 [==============================] - 0s 6ms/step - loss: 0.6787 - val_loss: 0.6741\n",
      "Epoch 3/600\n",
      "14/14 [==============================] - 0s 6ms/step - loss: 0.6580 - val_loss: 0.6564\n",
      "Epoch 4/600\n",
      "14/14 [==============================] - 0s 6ms/step - loss: 0.6470 - val_loss: 0.6349\n",
      "Epoch 5/600\n",
      "14/14 [==============================] - 0s 7ms/step - loss: 0.6314 - val_loss: 0.6094\n",
      "Epoch 6/600\n",
      "14/14 [==============================] - 0s 7ms/step - loss: 0.6001 - val_loss: 0.5811\n",
      "Epoch 7/600\n",
      "14/14 [==============================] - 0s 7ms/step - loss: 0.5900 - val_loss: 0.5542\n",
      "Epoch 8/600\n",
      "14/14 [==============================] - 0s 7ms/step - loss: 0.5735 - val_loss: 0.5288\n",
      "Epoch 9/600\n",
      "14/14 [==============================] - 0s 7ms/step - loss: 0.5466 - val_loss: 0.4987\n",
      "Epoch 10/600\n",
      "14/14 [==============================] - 0s 6ms/step - loss: 0.5063 - val_loss: 0.4657\n",
      "Epoch 11/600\n",
      "14/14 [==============================] - 0s 7ms/step - loss: 0.4991 - val_loss: 0.4371\n",
      "Epoch 12/600\n",
      "14/14 [==============================] - 0s 8ms/step - loss: 0.4848 - val_loss: 0.4031\n",
      "Epoch 13/600\n",
      "14/14 [==============================] - 0s 7ms/step - loss: 0.4613 - val_loss: 0.3788\n",
      "Epoch 14/600\n",
      "14/14 [==============================] - 0s 6ms/step - loss: 0.4251 - val_loss: 0.3562\n",
      "Epoch 15/600\n",
      "14/14 [==============================] - 0s 5ms/step - loss: 0.4295 - val_loss: 0.3319\n",
      "Epoch 16/600\n",
      "14/14 [==============================] - 0s 6ms/step - loss: 0.3830 - val_loss: 0.3115\n",
      "Epoch 17/600\n",
      "14/14 [==============================] - 0s 6ms/step - loss: 0.3724 - val_loss: 0.2856\n",
      "Epoch 18/600\n",
      "14/14 [==============================] - 0s 6ms/step - loss: 0.3718 - val_loss: 0.2699\n",
      "Epoch 19/600\n",
      "14/14 [==============================] - 0s 6ms/step - loss: 0.3621 - val_loss: 0.2594\n",
      "Epoch 20/600\n",
      "14/14 [==============================] - 0s 6ms/step - loss: 0.3265 - val_loss: 0.2421\n",
      "Epoch 21/600\n",
      "14/14 [==============================] - 0s 7ms/step - loss: 0.3334 - val_loss: 0.2291\n",
      "Epoch 22/600\n",
      "14/14 [==============================] - 0s 8ms/step - loss: 0.3186 - val_loss: 0.2129\n",
      "Epoch 23/600\n",
      "14/14 [==============================] - 0s 7ms/step - loss: 0.3157 - val_loss: 0.2039\n",
      "Epoch 24/600\n",
      "14/14 [==============================] - 0s 7ms/step - loss: 0.2760 - val_loss: 0.1999\n",
      "Epoch 25/600\n",
      "14/14 [==============================] - 0s 6ms/step - loss: 0.2815 - val_loss: 0.1867\n",
      "Epoch 26/600\n",
      "14/14 [==============================] - 0s 6ms/step - loss: 0.2612 - val_loss: 0.1766\n",
      "Epoch 27/600\n",
      "14/14 [==============================] - 0s 6ms/step - loss: 0.3080 - val_loss: 0.1744\n",
      "Epoch 28/600\n",
      "14/14 [==============================] - 0s 6ms/step - loss: 0.2671 - val_loss: 0.1720\n",
      "Epoch 29/600\n",
      "14/14 [==============================] - 0s 7ms/step - loss: 0.2483 - val_loss: 0.1618\n",
      "Epoch 30/600\n",
      "14/14 [==============================] - 0s 7ms/step - loss: 0.2483 - val_loss: 0.1630\n",
      "Epoch 31/600\n",
      "14/14 [==============================] - 0s 7ms/step - loss: 0.2311 - val_loss: 0.1525\n",
      "Epoch 32/600\n",
      "14/14 [==============================] - 0s 7ms/step - loss: 0.2208 - val_loss: 0.1427\n",
      "Epoch 33/600\n",
      "14/14 [==============================] - 0s 6ms/step - loss: 0.2255 - val_loss: 0.1387\n",
      "Epoch 34/600\n",
      "14/14 [==============================] - 0s 6ms/step - loss: 0.2168 - val_loss: 0.1371\n",
      "Epoch 35/600\n",
      "14/14 [==============================] - 0s 6ms/step - loss: 0.2323 - val_loss: 0.1427\n",
      "Epoch 36/600\n",
      "14/14 [==============================] - 0s 6ms/step - loss: 0.2336 - val_loss: 0.1378\n",
      "Epoch 37/600\n",
      "14/14 [==============================] - 0s 6ms/step - loss: 0.2178 - val_loss: 0.1352\n",
      "Epoch 38/600\n",
      "14/14 [==============================] - 0s 6ms/step - loss: 0.1918 - val_loss: 0.1299\n",
      "Epoch 39/600\n",
      "14/14 [==============================] - 0s 6ms/step - loss: 0.1854 - val_loss: 0.1272\n",
      "Epoch 40/600\n",
      "14/14 [==============================] - 0s 6ms/step - loss: 0.2066 - val_loss: 0.1281\n",
      "Epoch 41/600\n",
      "14/14 [==============================] - 0s 6ms/step - loss: 0.1972 - val_loss: 0.1193\n",
      "Epoch 42/600\n",
      "14/14 [==============================] - 0s 6ms/step - loss: 0.2014 - val_loss: 0.1203\n",
      "Epoch 43/600\n",
      "14/14 [==============================] - 0s 6ms/step - loss: 0.1967 - val_loss: 0.1205\n",
      "Epoch 44/600\n",
      "14/14 [==============================] - 0s 6ms/step - loss: 0.1520 - val_loss: 0.1215\n",
      "Epoch 45/600\n",
      "14/14 [==============================] - 0s 6ms/step - loss: 0.1771 - val_loss: 0.1145\n",
      "Epoch 46/600\n",
      "14/14 [==============================] - 0s 6ms/step - loss: 0.1886 - val_loss: 0.1128\n",
      "Epoch 47/600\n",
      "14/14 [==============================] - 0s 7ms/step - loss: 0.1877 - val_loss: 0.1194\n",
      "Epoch 48/600\n",
      "14/14 [==============================] - 0s 6ms/step - loss: 0.1684 - val_loss: 0.1181\n",
      "Epoch 49/600\n",
      "14/14 [==============================] - 0s 6ms/step - loss: 0.1853 - val_loss: 0.1108\n",
      "Epoch 50/600\n",
      "14/14 [==============================] - 0s 6ms/step - loss: 0.1897 - val_loss: 0.1183\n",
      "Epoch 51/600\n",
      "14/14 [==============================] - 0s 7ms/step - loss: 0.1527 - val_loss: 0.1191\n",
      "Epoch 52/600\n",
      "14/14 [==============================] - 0s 7ms/step - loss: 0.1528 - val_loss: 0.1067\n",
      "Epoch 53/600\n",
      "14/14 [==============================] - 0s 6ms/step - loss: 0.1621 - val_loss: 0.1103\n",
      "Epoch 54/600\n",
      "14/14 [==============================] - 0s 6ms/step - loss: 0.1337 - val_loss: 0.1119\n",
      "Epoch 55/600\n",
      "14/14 [==============================] - 0s 6ms/step - loss: 0.1529 - val_loss: 0.1036\n",
      "Epoch 56/600\n",
      "14/14 [==============================] - 0s 6ms/step - loss: 0.1759 - val_loss: 0.1072\n",
      "Epoch 57/600\n",
      "14/14 [==============================] - 0s 6ms/step - loss: 0.1631 - val_loss: 0.1130\n",
      "Epoch 58/600\n",
      "14/14 [==============================] - 0s 5ms/step - loss: 0.1568 - val_loss: 0.1051\n",
      "Epoch 59/600\n",
      "14/14 [==============================] - 0s 5ms/step - loss: 0.1488 - val_loss: 0.1096\n",
      "Epoch 60/600\n",
      "14/14 [==============================] - 0s 6ms/step - loss: 0.1614 - val_loss: 0.1069\n",
      "Epoch 61/600\n",
      "14/14 [==============================] - 0s 5ms/step - loss: 0.1587 - val_loss: 0.0998\n",
      "Epoch 62/600\n",
      "14/14 [==============================] - 0s 5ms/step - loss: 0.1400 - val_loss: 0.1009\n",
      "Epoch 63/600\n",
      "14/14 [==============================] - 0s 5ms/step - loss: 0.1553 - val_loss: 0.1117\n",
      "Epoch 64/600\n",
      "14/14 [==============================] - 0s 5ms/step - loss: 0.1276 - val_loss: 0.1013\n",
      "Epoch 65/600\n",
      "14/14 [==============================] - 0s 6ms/step - loss: 0.1480 - val_loss: 0.0966\n",
      "Epoch 66/600\n",
      "14/14 [==============================] - 0s 6ms/step - loss: 0.1570 - val_loss: 0.1019\n",
      "Epoch 67/600\n",
      "14/14 [==============================] - 0s 6ms/step - loss: 0.1238 - val_loss: 0.1009\n",
      "Epoch 68/600\n",
      "14/14 [==============================] - 0s 6ms/step - loss: 0.1289 - val_loss: 0.0953\n",
      "Epoch 69/600\n",
      "14/14 [==============================] - 0s 5ms/step - loss: 0.1469 - val_loss: 0.1030\n",
      "Epoch 70/600\n",
      "14/14 [==============================] - 0s 5ms/step - loss: 0.1253 - val_loss: 0.1020\n",
      "Epoch 71/600\n",
      "14/14 [==============================] - 0s 6ms/step - loss: 0.1117 - val_loss: 0.0931\n",
      "Epoch 72/600\n",
      "14/14 [==============================] - 0s 5ms/step - loss: 0.1397 - val_loss: 0.0930\n",
      "Epoch 73/600\n",
      "14/14 [==============================] - 0s 6ms/step - loss: 0.1250 - val_loss: 0.0926\n",
      "Epoch 74/600\n",
      "14/14 [==============================] - 0s 6ms/step - loss: 0.1159 - val_loss: 0.1001\n",
      "Epoch 75/600\n",
      "14/14 [==============================] - 0s 6ms/step - loss: 0.1411 - val_loss: 0.1127\n",
      "Epoch 76/600\n",
      "14/14 [==============================] - 0s 6ms/step - loss: 0.1322 - val_loss: 0.0939\n",
      "Epoch 77/600\n"
     ]
    },
    {
     "name": "stdout",
     "output_type": "stream",
     "text": [
      "14/14 [==============================] - 0s 7ms/step - loss: 0.1251 - val_loss: 0.1086\n",
      "Epoch 78/600\n",
      "14/14 [==============================] - 0s 7ms/step - loss: 0.1078 - val_loss: 0.1036\n",
      "Epoch 79/600\n",
      "14/14 [==============================] - 0s 6ms/step - loss: 0.1303 - val_loss: 0.0982\n",
      "Epoch 80/600\n",
      "14/14 [==============================] - 0s 7ms/step - loss: 0.1263 - val_loss: 0.0993\n",
      "Epoch 81/600\n",
      "14/14 [==============================] - 0s 8ms/step - loss: 0.1109 - val_loss: 0.1022\n",
      "Epoch 82/600\n",
      "14/14 [==============================] - 0s 7ms/step - loss: 0.1041 - val_loss: 0.0925\n",
      "Epoch 83/600\n",
      "14/14 [==============================] - 0s 6ms/step - loss: 0.1069 - val_loss: 0.0917\n",
      "Epoch 84/600\n",
      "14/14 [==============================] - 0s 7ms/step - loss: 0.1226 - val_loss: 0.1016\n",
      "Epoch 85/600\n",
      "14/14 [==============================] - 0s 7ms/step - loss: 0.1186 - val_loss: 0.0989\n",
      "Epoch 86/600\n",
      "14/14 [==============================] - 0s 6ms/step - loss: 0.1011 - val_loss: 0.0944\n",
      "Epoch 87/600\n",
      "14/14 [==============================] - 0s 6ms/step - loss: 0.1073 - val_loss: 0.0993\n",
      "Epoch 88/600\n",
      "14/14 [==============================] - 0s 6ms/step - loss: 0.1114 - val_loss: 0.0982\n",
      "Epoch 89/600\n",
      "14/14 [==============================] - 0s 6ms/step - loss: 0.1089 - val_loss: 0.1040\n",
      "Epoch 90/600\n",
      "14/14 [==============================] - 0s 6ms/step - loss: 0.1199 - val_loss: 0.0921\n",
      "Epoch 91/600\n",
      "14/14 [==============================] - 0s 6ms/step - loss: 0.1050 - val_loss: 0.0924\n",
      "Epoch 92/600\n",
      "14/14 [==============================] - 0s 6ms/step - loss: 0.1042 - val_loss: 0.0944\n",
      "Epoch 93/600\n",
      "14/14 [==============================] - 0s 5ms/step - loss: 0.1130 - val_loss: 0.0931\n",
      "Epoch 94/600\n",
      "14/14 [==============================] - 0s 6ms/step - loss: 0.1041 - val_loss: 0.1032\n",
      "Epoch 95/600\n",
      "14/14 [==============================] - 0s 5ms/step - loss: 0.0999 - val_loss: 0.1022\n",
      "Epoch 96/600\n",
      "14/14 [==============================] - 0s 5ms/step - loss: 0.0941 - val_loss: 0.1028\n",
      "Epoch 97/600\n",
      "14/14 [==============================] - 0s 5ms/step - loss: 0.1078 - val_loss: 0.1017\n",
      "Epoch 98/600\n",
      "14/14 [==============================] - 0s 5ms/step - loss: 0.0963 - val_loss: 0.0981\n",
      "Epoch 99/600\n",
      "14/14 [==============================] - 0s 6ms/step - loss: 0.0995 - val_loss: 0.0952\n",
      "Epoch 100/600\n",
      "14/14 [==============================] - 0s 6ms/step - loss: 0.1027 - val_loss: 0.0972\n",
      "Epoch 101/600\n",
      "14/14 [==============================] - 0s 6ms/step - loss: 0.1059 - val_loss: 0.1045\n",
      "Epoch 102/600\n",
      "14/14 [==============================] - 0s 6ms/step - loss: 0.0938 - val_loss: 0.1036\n",
      "Epoch 103/600\n",
      "14/14 [==============================] - 0s 6ms/step - loss: 0.0869 - val_loss: 0.1018\n",
      "Epoch 104/600\n",
      "14/14 [==============================] - 0s 6ms/step - loss: 0.0817 - val_loss: 0.0931\n",
      "Epoch 105/600\n",
      "14/14 [==============================] - 0s 5ms/step - loss: 0.0811 - val_loss: 0.1094\n",
      "Epoch 106/600\n",
      "14/14 [==============================] - 0s 6ms/step - loss: 0.1054 - val_loss: 0.1036\n",
      "Epoch 107/600\n",
      "14/14 [==============================] - 0s 6ms/step - loss: 0.0949 - val_loss: 0.0926\n",
      "Epoch 108/600\n",
      "14/14 [==============================] - 0s 6ms/step - loss: 0.1253 - val_loss: 0.1132\n",
      "Epoch 00108: early stopping\n"
     ]
    },
    {
     "data": {
      "text/plain": [
       "<tensorflow.python.keras.callbacks.History at 0x1d8dec68988>"
      ]
     },
     "execution_count": 18,
     "metadata": {},
     "output_type": "execute_result"
    }
   ],
   "source": [
    "model.fit(x=X_train, \n",
    "          y=y_train, \n",
    "          epochs=600,\n",
    "          validation_data=(X_test, y_test), verbose=1,\n",
    "          callbacks=[early_stop,board]\n",
    "          )"
   ]
  },
  {
   "cell_type": "markdown",
   "metadata": {},
   "source": [
    "# Running Tensorboard\n"
   ]
  },
  {
   "cell_type": "markdown",
   "metadata": {},
   "source": [
    "## Running through the Command Line\n",
    "\n",
    "**Watch video to see how to run Tensorboard through a command line call.**"
   ]
  },
  {
   "cell_type": "markdown",
   "metadata": {},
   "source": [
    "Tensorboard will run locally in your browser at [http://localhost:6006/](http://localhost:6006/)\n"
   ]
  },
  {
   "cell_type": "code",
   "execution_count": 19,
   "metadata": {},
   "outputs": [
    {
     "name": "stdout",
     "output_type": "stream",
     "text": [
      "logs\\fit\n"
     ]
    }
   ],
   "source": [
    "print(log_directory)"
   ]
  },
  {
   "cell_type": "code",
   "execution_count": 20,
   "metadata": {},
   "outputs": [
    {
     "data": {
      "text/plain": [
       "'C:\\\\Users\\\\Jared\\\\Documents\\\\GitHub\\\\python-data-science-ML\\\\TensorFlow_FILES\\\\ANNs'"
      ]
     },
     "execution_count": 20,
     "metadata": {},
     "output_type": "execute_result"
    }
   ],
   "source": [
    "pwd"
   ]
  },
  {
   "cell_type": "markdown",
   "metadata": {},
   "source": [
    "### Use cd at your command line to change directory to the file path reported back by pwd or your current .py file location.\n",
    "### Then run this code at your command line or terminal"
   ]
  },
  {
   "cell_type": "code",
   "execution_count": null,
   "metadata": {},
   "outputs": [],
   "source": [
    "tensorboard --logdir logs\\fit "
   ]
  }
 ],
 "metadata": {
  "kernelspec": {
   "display_name": "Python 3",
   "language": "python",
   "name": "python3"
  },
  "language_info": {
   "codemirror_mode": {
    "name": "ipython",
    "version": 3
   },
   "file_extension": ".py",
   "mimetype": "text/x-python",
   "name": "python",
   "nbconvert_exporter": "python",
   "pygments_lexer": "ipython3",
   "version": "3.7.6"
  }
 },
 "nbformat": 4,
 "nbformat_minor": 2
}
